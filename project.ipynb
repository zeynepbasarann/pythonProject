{
 "cells": [
  {
   "cell_type": "code",
   "execution_count": 68,
   "id": "06dc4009",
   "metadata": {},
   "outputs": [],
   "source": [
    "import psycopg2\n",
    "import pandas as pd\n",
    "database_name=\"pizzaMenu\"\n",
    "user_name=\"postgres\"\n",
    "password=\"Zb5366977162\"\n",
    "host_ip=\"localhost\"\n",
    "host_port=\"5432\"\n",
    "\n",
    "baglanti=psycopg2.connect(database=database_name,\n",
    "                         user=user_name,\n",
    "                         password=password,\n",
    "                         host=host_ip,\n",
    "                         port=host_port)\n",
    "\n"
   ]
  },
  {
   "cell_type": "code",
   "execution_count": 69,
   "id": "7b8dca12",
   "metadata": {},
   "outputs": [],
   "source": [
    "def menu():\n",
    "    baglanti.autocommit=True\n",
    "    cursor=baglanti.cursor()\n",
    "    query_select=\"SELECT * FROM menu\"\n",
    "    cursor.execute(query_select)\n",
    "    menu=cursor.fetchall()\n",
    "    baglanti.autocommit=False\n",
    "    menu=pd.DataFrame(menu)\n",
    "    columns=('id','Name','Component','Cost')\n",
    "    menu.columns=columns\n",
    "    print(menu)"
   ]
  },
  {
   "cell_type": "code",
   "execution_count": 70,
   "id": "f3428fea",
   "metadata": {},
   "outputs": [],
   "source": [
    "def sepet():\n",
    "    print(\"Ad:\")\n",
    "    musteriName=input()\n",
    "    print(\"Soyad:\")\n",
    "    musteriSurname=input()\n",
    "    print(\"Numara (Basinda 0 Olmadan!):\")\n",
    "    number=int(input())\n",
    "    print(\"Pizza id:\")\n",
    "    pizza=int(input())\n",
    "    print(\"Sos id:\")\n",
    "    sos=int(input())\n",
    "    cost='62TL'\n",
    "    \n",
    "    baglanti.autocommit=True\n",
    "    cursor=baglanti.cursor()\n",
    "    query_insert=(\n",
    "        f\"INSERT INTO sepet(name,surname,number,cost) VALUES {musteriName,musteriSurname,number,cost}\"\n",
    "    \n",
    "    )\n",
    "    cursor.execute(query_insert)\n",
    "    baglanti.autocommit=False\n",
    "    \n",
    "    \n",
    "    \n",
    "    "
   ]
  },
  {
   "cell_type": "code",
   "execution_count": 71,
   "id": "43cebb31",
   "metadata": {},
   "outputs": [],
   "source": [
    "def siparis():\n",
    "    print(\"Siparis Vermek Istiyor musunuz?(E/H)\")\n",
    "    cevap=input()\n",
    "    if(cevap=='E'):\n",
    "       sepet()\n",
    "    else:\n",
    "        print(\"Cikis\")\n",
    "        "
   ]
  },
  {
   "cell_type": "code",
   "execution_count": 72,
   "id": "bd33c5f3",
   "metadata": {},
   "outputs": [],
   "source": [
    "def start():\n",
    "    print(\"WELCOME!!\\n1-Menu\\n2-Exit\")\n",
    "    secim=int(input())\n",
    "    \n",
    "    if(secim==1):\n",
    "        menu()\n",
    "        siparis()\n",
    "       \n",
    "    else:\n",
    "        print(\"Çıkıs\")\n",
    "\n",
    "        \n",
    "    \n"
   ]
  },
  {
   "cell_type": "code",
   "execution_count": null,
   "id": "86eee275",
   "metadata": {},
   "outputs": [
    {
     "name": "stdout",
     "output_type": "stream",
     "text": [
      "WELCOME!!\n",
      "1-Menu\n",
      "2-Exit\n",
      "1\n",
      "   id          Name                               Component  Cost\n",
      "0   1        Klasik  Mantar-Kasar-Domates-Sucuk-Salam-Sosis  45TL\n",
      "1   2     Margarita              Domates-Mozarella-Fesleğen  50TL\n",
      "2   4    Turk Pizza             Sucuk-Pastırma-Biber-Mantar  60TL\n",
      "3   3     SadePizza                      Mozarella-Fesleğen  40TL\n",
      "4   1        Zeytin                                           7TL\n",
      "5   2        Mantar                                          10TL\n",
      "6   3  Keci Peyniri                                          10TL\n",
      "7   4            Et                                          15TL\n",
      "8   5         Sogan                                           7TL\n",
      "9   6         Misir                                           7TL\n",
      "Siparis Vermek Istiyor musunuz?(E/H)\n"
     ]
    }
   ],
   "source": [
    "start()"
   ]
  },
  {
   "cell_type": "code",
   "execution_count": null,
   "id": "583995f6",
   "metadata": {},
   "outputs": [],
   "source": []
  }
 ],
 "metadata": {
  "kernelspec": {
   "display_name": "Python 3 (ipykernel)",
   "language": "python",
   "name": "python3"
  },
  "language_info": {
   "codemirror_mode": {
    "name": "ipython",
    "version": 3
   },
   "file_extension": ".py",
   "mimetype": "text/x-python",
   "name": "python",
   "nbconvert_exporter": "python",
   "pygments_lexer": "ipython3",
   "version": "3.9.13"
  }
 },
 "nbformat": 4,
 "nbformat_minor": 5
}
